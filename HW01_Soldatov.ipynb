{
 "cells": [
  {
   "cell_type": "markdown",
   "id": "worth-estimate",
   "metadata": {
    "slideshow": {
     "slide_type": "slide"
    }
   },
   "source": [
    "# Домашняя работа №1."
   ]
  },
  {
   "cell_type": "code",
   "execution_count": 259,
   "id": "early-begin",
   "metadata": {
    "slideshow": {
     "slide_type": "subslide"
    }
   },
   "outputs": [],
   "source": [
    "import pandas as pd\n",
    "from matplotlib import pyplot as plt\n",
    "import seaborn as sns\n",
    "import numpy as np\n",
    "from sklearn.model_selection import cross_val_score\n",
    "from sklearn.linear_model import LinearRegression\n",
    "from sklearn.model_selection import train_test_split\n",
    "from sklearn.metrics import mean_absolute_error as mae"
   ]
  },
  {
   "cell_type": "code",
   "execution_count": 260,
   "id": "7cddda48",
   "metadata": {},
   "outputs": [
    {
     "data": {
      "text/html": [
       "<div>\n",
       "<style scoped>\n",
       "    .dataframe tbody tr th:only-of-type {\n",
       "        vertical-align: middle;\n",
       "    }\n",
       "\n",
       "    .dataframe tbody tr th {\n",
       "        vertical-align: top;\n",
       "    }\n",
       "\n",
       "    .dataframe thead th {\n",
       "        text-align: right;\n",
       "    }\n",
       "</style>\n",
       "<table border=\"1\" class=\"dataframe\">\n",
       "  <thead>\n",
       "    <tr style=\"text-align: right;\">\n",
       "      <th></th>\n",
       "      <th>price</th>\n",
       "      <th>bedrooms</th>\n",
       "      <th>bathrooms</th>\n",
       "      <th>sqft_living</th>\n",
       "      <th>sqft_lot</th>\n",
       "      <th>floors</th>\n",
       "      <th>waterfront</th>\n",
       "      <th>view</th>\n",
       "      <th>condition</th>\n",
       "      <th>grade</th>\n",
       "      <th>sqft_above</th>\n",
       "      <th>sqft_basement</th>\n",
       "      <th>yr_built</th>\n",
       "      <th>yr_renovated</th>\n",
       "      <th>zipcode</th>\n",
       "      <th>lat</th>\n",
       "      <th>long</th>\n",
       "      <th>sqft_living15</th>\n",
       "      <th>sqft_lot15</th>\n",
       "    </tr>\n",
       "  </thead>\n",
       "  <tbody>\n",
       "    <tr>\n",
       "      <th>0</th>\n",
       "      <td>221900.0</td>\n",
       "      <td>3</td>\n",
       "      <td>1.00</td>\n",
       "      <td>1180</td>\n",
       "      <td>5650</td>\n",
       "      <td>1.0</td>\n",
       "      <td>0</td>\n",
       "      <td>0</td>\n",
       "      <td>3</td>\n",
       "      <td>7</td>\n",
       "      <td>1180.0</td>\n",
       "      <td>0</td>\n",
       "      <td>1955</td>\n",
       "      <td>0</td>\n",
       "      <td>98178</td>\n",
       "      <td>47.5112</td>\n",
       "      <td>-122.257</td>\n",
       "      <td>1340</td>\n",
       "      <td>5650</td>\n",
       "    </tr>\n",
       "    <tr>\n",
       "      <th>1</th>\n",
       "      <td>538000.0</td>\n",
       "      <td>3</td>\n",
       "      <td>2.25</td>\n",
       "      <td>2570</td>\n",
       "      <td>7242</td>\n",
       "      <td>2.0</td>\n",
       "      <td>0</td>\n",
       "      <td>0</td>\n",
       "      <td>3</td>\n",
       "      <td>7</td>\n",
       "      <td>2170.0</td>\n",
       "      <td>400</td>\n",
       "      <td>1951</td>\n",
       "      <td>1991</td>\n",
       "      <td>98125</td>\n",
       "      <td>47.7210</td>\n",
       "      <td>-122.319</td>\n",
       "      <td>1690</td>\n",
       "      <td>7639</td>\n",
       "    </tr>\n",
       "    <tr>\n",
       "      <th>2</th>\n",
       "      <td>180000.0</td>\n",
       "      <td>2</td>\n",
       "      <td>1.00</td>\n",
       "      <td>770</td>\n",
       "      <td>10000</td>\n",
       "      <td>1.0</td>\n",
       "      <td>0</td>\n",
       "      <td>0</td>\n",
       "      <td>3</td>\n",
       "      <td>6</td>\n",
       "      <td>770.0</td>\n",
       "      <td>0</td>\n",
       "      <td>1933</td>\n",
       "      <td>0</td>\n",
       "      <td>98028</td>\n",
       "      <td>47.7379</td>\n",
       "      <td>-122.233</td>\n",
       "      <td>2720</td>\n",
       "      <td>8062</td>\n",
       "    </tr>\n",
       "    <tr>\n",
       "      <th>3</th>\n",
       "      <td>604000.0</td>\n",
       "      <td>4</td>\n",
       "      <td>3.00</td>\n",
       "      <td>1960</td>\n",
       "      <td>5000</td>\n",
       "      <td>1.0</td>\n",
       "      <td>0</td>\n",
       "      <td>0</td>\n",
       "      <td>5</td>\n",
       "      <td>7</td>\n",
       "      <td>1050.0</td>\n",
       "      <td>910</td>\n",
       "      <td>1965</td>\n",
       "      <td>0</td>\n",
       "      <td>98136</td>\n",
       "      <td>47.5208</td>\n",
       "      <td>-122.393</td>\n",
       "      <td>1360</td>\n",
       "      <td>5000</td>\n",
       "    </tr>\n",
       "    <tr>\n",
       "      <th>4</th>\n",
       "      <td>510000.0</td>\n",
       "      <td>3</td>\n",
       "      <td>2.00</td>\n",
       "      <td>1680</td>\n",
       "      <td>8080</td>\n",
       "      <td>1.0</td>\n",
       "      <td>0</td>\n",
       "      <td>0</td>\n",
       "      <td>3</td>\n",
       "      <td>8</td>\n",
       "      <td>1680.0</td>\n",
       "      <td>0</td>\n",
       "      <td>1987</td>\n",
       "      <td>0</td>\n",
       "      <td>98074</td>\n",
       "      <td>47.6168</td>\n",
       "      <td>-122.045</td>\n",
       "      <td>1800</td>\n",
       "      <td>7503</td>\n",
       "    </tr>\n",
       "  </tbody>\n",
       "</table>\n",
       "</div>"
      ],
      "text/plain": [
       "      price  bedrooms  bathrooms  sqft_living  sqft_lot  floors  waterfront  \\\n",
       "0  221900.0         3       1.00         1180      5650     1.0           0   \n",
       "1  538000.0         3       2.25         2570      7242     2.0           0   \n",
       "2  180000.0         2       1.00          770     10000     1.0           0   \n",
       "3  604000.0         4       3.00         1960      5000     1.0           0   \n",
       "4  510000.0         3       2.00         1680      8080     1.0           0   \n",
       "\n",
       "   view  condition  grade  sqft_above  sqft_basement  yr_built  yr_renovated  \\\n",
       "0     0          3      7      1180.0              0      1955             0   \n",
       "1     0          3      7      2170.0            400      1951          1991   \n",
       "2     0          3      6       770.0              0      1933             0   \n",
       "3     0          5      7      1050.0            910      1965             0   \n",
       "4     0          3      8      1680.0              0      1987             0   \n",
       "\n",
       "   zipcode      lat     long  sqft_living15  sqft_lot15  \n",
       "0    98178  47.5112 -122.257           1340        5650  \n",
       "1    98125  47.7210 -122.319           1690        7639  \n",
       "2    98028  47.7379 -122.233           2720        8062  \n",
       "3    98136  47.5208 -122.393           1360        5000  \n",
       "4    98074  47.6168 -122.045           1800        7503  "
      ]
     },
     "execution_count": 260,
     "metadata": {},
     "output_type": "execute_result"
    }
   ],
   "source": [
    "df = pd.read_csv('kc_house_data.csv')\n",
    "df.drop(['id', 'date'], axis=1, inplace=True)\n",
    "df.head()"
   ]
  },
  {
   "cell_type": "code",
   "execution_count": 261,
   "id": "9251e19a",
   "metadata": {},
   "outputs": [
    {
     "data": {
      "text/plain": [
       "sqft_above    2\n",
       "dtype: int64"
      ]
     },
     "execution_count": 261,
     "metadata": {},
     "output_type": "execute_result"
    }
   ],
   "source": [
    "null_table = df.isnull().sum()\n",
    "null_table[null_table > 0]"
   ]
  },
  {
   "cell_type": "code",
   "execution_count": 262,
   "id": "unknown-policy",
   "metadata": {
    "slideshow": {
     "slide_type": "subslide"
    }
   },
   "outputs": [
    {
     "data": {
      "image/png": "[encoded data removed]",
      "text/plain": [
       "<Figure size 720x432 with 1 Axes>"
      ]
     },
     "metadata": {
      "needs_background": "light"
     },
     "output_type": "display_data"
    }
   ],
   "source": [
    "fig, ax = plt.subplots(figsize=(10,6))\n",
    "sns_heatmap = sns.heatmap(df.isnull(), yticklabels=False, cbar=False, cmap='viridis')"
   ]
  },
  {
   "cell_type": "markdown",
   "id": "collaborative-garage",
   "metadata": {
    "slideshow": {
     "slide_type": "subslide"
    }
   },
   "source": [
    "### Кратчайшая предобработка данных"
   ]
  },
  {
   "cell_type": "code",
   "execution_count": 263,
   "id": "lined-technician",
   "metadata": {
    "slideshow": {
     "slide_type": "subslide"
    }
   },
   "outputs": [
    {
     "data": {
      "text/plain": [
       "price            float64\n",
       "bedrooms           int64\n",
       "bathrooms        float64\n",
       "sqft_living        int64\n",
       "sqft_lot           int64\n",
       "floors           float64\n",
       "waterfront         int64\n",
       "view               int64\n",
       "condition          int64\n",
       "grade              int64\n",
       "sqft_above       float64\n",
       "sqft_basement      int64\n",
       "yr_built           int64\n",
       "yr_renovated       int64\n",
       "zipcode            int64\n",
       "lat              float64\n",
       "long             float64\n",
       "sqft_living15      int64\n",
       "sqft_lot15         int64\n",
       "dtype: object"
      ]
     },
     "execution_count": 263,
     "metadata": {},
     "output_type": "execute_result"
    }
   ],
   "source": [
    "df.dtypes"
   ]
  },
  {
   "cell_type": "code",
   "execution_count": 264,
   "id": "expired-antenna",
   "metadata": {
    "scrolled": true,
    "slideshow": {
     "slide_type": "subslide"
    }
   },
   "outputs": [],
   "source": [
    "var_cat = ['view', 'zipcode', 'condition', 'grade', 'waterfront']\n",
    "var_real = list(set(df.columns) - set(var_cat))\n",
    "\n",
    "df[var_cat] = df[var_cat].astype(str)\n",
    "df = pd.get_dummies(df, drop_first=True)"
   ]
  },
  {
   "cell_type": "code",
   "execution_count": 265,
   "id": "3862c9d6",
   "metadata": {},
   "outputs": [],
   "source": [
    "df[\"sqft_above\"].fillna(1788.39,inplace=True)"
   ]
  },
  {
   "cell_type": "markdown",
   "id": "married-jordan",
   "metadata": {
    "slideshow": {
     "slide_type": "subslide"
    }
   },
   "source": [
    "### А отсюда начнется тру-мл"
   ]
  },
  {
   "cell_type": "code",
   "execution_count": 266,
   "id": "exact-salon",
   "metadata": {
    "slideshow": {
     "slide_type": "subslide"
    }
   },
   "outputs": [],
   "source": [
    "from sklearn.linear_model import LinearRegression\n",
    "from sklearn.model_selection import train_test_split\n",
    "from sklearn.metrics import mean_absolute_error as mae"
   ]
  },
  {
   "cell_type": "code",
   "execution_count": 267,
   "id": "floppy-lecture",
   "metadata": {
    "slideshow": {
     "slide_type": "subslide"
    }
   },
   "outputs": [],
   "source": [
    "X = df.drop('price', axis=1)\n",
    "y = df['price']"
   ]
  },
  {
   "cell_type": "code",
   "execution_count": 268,
   "id": "bound-greek",
   "metadata": {
    "slideshow": {
     "slide_type": "subslide"
    }
   },
   "outputs": [
    {
     "name": "stdout",
     "output_type": "stream",
     "text": [
      "(17290, 102) (4323, 102)\n",
      "(17290,) (4323,)\n"
     ]
    }
   ],
   "source": [
    "X_train, X_test, y_train, y_test = train_test_split(X, y, test_size=0.2, shuffle=True)\n",
    "\n",
    "print(X_train.shape, X_test.shape)\n",
    "print(y_train.shape, y_test.shape)"
   ]
  },
  {
   "cell_type": "code",
   "execution_count": 269,
   "id": "devoted-automation",
   "metadata": {
    "slideshow": {
     "slide_type": "subslide"
    }
   },
   "outputs": [
    {
     "data": {
      "text/plain": [
       "LinearRegression()"
      ]
     },
     "execution_count": 269,
     "metadata": {},
     "output_type": "execute_result"
    }
   ],
   "source": [
    "model_lr = LinearRegression()\n",
    "\n",
    "model_lr.fit(X_train, y_train)"
   ]
  },
  {
   "cell_type": "code",
   "execution_count": 270,
   "id": "collaborative-visitor",
   "metadata": {
    "slideshow": {
     "slide_type": "subslide"
    }
   },
   "outputs": [
    {
     "name": "stdout",
     "output_type": "stream",
     "text": [
      "87305.35353001527\n",
      "535845.699745547\n"
     ]
    }
   ],
   "source": [
    "y_pred = model_lr.predict(X_test)\n",
    "print(mae(y_test, y_pred))\n",
    "print(np.mean(y_test))"
   ]
  },
  {
   "cell_type": "code",
   "execution_count": 271,
   "id": "contrary-glucose",
   "metadata": {
    "slideshow": {
     "slide_type": "subslide"
    }
   },
   "outputs": [
    {
     "data": {
      "image/png": "[encoded data removed]",
      "text/plain": [
       "<Figure size 720x720 with 1 Axes>"
      ]
     },
     "metadata": {
      "needs_background": "light"
     },
     "output_type": "display_data"
    }
   ],
   "source": [
    "plt.figure(figsize=(10,10))\n",
    "plt.scatter(y_test, y_pred)\n",
    "plt.xlabel('Истинные значения')\n",
    "plt.ylabel('Предсказанные значения')\n",
    "plt.axis('equal')\n",
    "plt.axis('square')\n",
    "plt.xlim([0,plt.xlim()[1]])\n",
    "plt.ylim([0,plt.ylim()[1]])\n",
    "_ = plt.plot([-100, 100], [-100, 100])"
   ]
  },
  {
   "cell_type": "code",
   "execution_count": 272,
   "id": "recorded-russia",
   "metadata": {
    "slideshow": {
     "slide_type": "subslide"
    }
   },
   "outputs": [
    {
     "name": "stdout",
     "output_type": "stream",
     "text": [
      "[8.98733751e+04 9.02406419e+04 8.86532686e+04 8.96759146e+04\n",
      " 4.93876365e+09]\n",
      "Среднее значение ошибки: 987824418.0477108\n",
      "Стандартное отклонение ошибки: 1975469614.4953835\n"
     ]
    }
   ],
   "source": [
    "model = LinearRegression()\n",
    "\n",
    "mae_val = cross_val_score(model, X_train, y_train, cv=5, scoring='neg_mean_absolute_error')\n",
    "print(-1*mae_val)\n",
    "print('Среднее значение ошибки:', np.mean(-1*mae_val))\n",
    "print('Стандартное отклонение ошибки:', np.std(-1*mae_val))"
   ]
  },
  {
   "cell_type": "markdown",
   "id": "ac3bddb6",
   "metadata": {
    "slideshow": {
     "slide_type": "subslide"
    }
   },
   "source": [
    "# начало домашки\n"
   ]
  },
  {
   "cell_type": "markdown",
   "id": "e249de0a",
   "metadata": {},
   "source": [
    "### Задача №1\n"
   ]
  },
  {
   "cell_type": "code",
   "execution_count": 273,
   "id": "d27612e7",
   "metadata": {},
   "outputs": [],
   "source": [
    "from sklearn.linear_model import LogisticRegression\n",
    "from sklearn.tree import DecisionTreeRegressor\n",
    "\n",
    "from sklearn.metrics import roc_auc_score\n",
    "from sklearn.model_selection import GridSearchCV"
   ]
  },
  {
   "cell_type": "markdown",
   "id": "dba53966",
   "metadata": {},
   "source": [
    "### Построим решающее дерево\n"
   ]
  },
  {
   "cell_type": "code",
   "execution_count": 274,
   "id": "fcf435c1",
   "metadata": {},
   "outputs": [
    {
     "data": {
      "text/plain": [
       "DecisionTreeRegressor()"
      ]
     },
     "execution_count": 274,
     "metadata": {},
     "output_type": "execute_result"
    }
   ],
   "source": [
    "model_decision_tree = DecisionTreeRegressor()\n",
    "model_decision_tree.fit(X_train, y_train)"
   ]
  },
  {
   "cell_type": "code",
   "execution_count": 275,
   "id": "6d2c11dc",
   "metadata": {},
   "outputs": [
    {
     "name": "stdout",
     "output_type": "stream",
     "text": [
      "101891.15093684942\n"
     ]
    }
   ],
   "source": [
    "y_predict = model_decision_tree.predict(X_test)\n",
    "print(mae(y_test, y_predict))"
   ]
  },
  {
   "cell_type": "code",
   "execution_count": 276,
   "id": "7b009568",
   "metadata": {},
   "outputs": [
    {
     "data": {
      "text/plain": [
       "GridSearchCV(cv=5, estimator=DecisionTreeRegressor(),\n",
       "             param_grid={'max_depth': [3, 5, 7, 10, 15]},\n",
       "             scoring='neg_mean_absolute_error')"
      ]
     },
     "execution_count": 276,
     "metadata": {},
     "output_type": "execute_result"
    }
   ],
   "source": [
    "param_grid = {'max_depth': [3, 5, 7, 10, 15], 'criterion': ['squared_error', 'friedman_mse', 'absolute_error', 'poisson']}\n",
    "param_grid = {'max_depth': [3, 5, 7, 10, 15]}\n",
    "\n",
    "\n",
    "grid_cv = GridSearchCV(model_decision_tree, param_grid, cv = 5, scoring='neg_mean_absolute_error')\n",
    "\n",
    "\n",
    "grid_cv.fit(X_train, y_train)"
   ]
  },
  {
   "cell_type": "code",
   "execution_count": 277,
   "id": "d31fbcfe",
   "metadata": {},
   "outputs": [
    {
     "name": "stdout",
     "output_type": "stream",
     "text": [
      "best params: {'max_depth': 10}\n",
      "best result: -93626.0069502828\n"
     ]
    }
   ],
   "source": [
    "print('best params:', grid_cv.best_params_)\n",
    "print('best result:', grid_cv.best_score_)"
   ]
  },
  {
   "cell_type": "code",
   "execution_count": 278,
   "id": "77f91ea8",
   "metadata": {},
   "outputs": [
    {
     "name": "stdout",
     "output_type": "stream",
     "text": [
      "91941.03800139649\n"
     ]
    }
   ],
   "source": [
    "model_decision_tree = grid_cv.best_estimator_\n",
    "y_predict = model_decision_tree.predict(X_test)\n",
    "print(mae(y_test, y_predict))"
   ]
  },
  {
   "cell_type": "markdown",
   "id": "98b137b6",
   "metadata": {},
   "source": [
    "### Задача №2"
   ]
  },
  {
   "cell_type": "code",
   "execution_count": 530,
   "id": "34f268f8",
   "metadata": {},
   "outputs": [
    {
     "name": "stdout",
     "output_type": "stream",
     "text": [
      "records=21613, features=102.\n",
      "w0=[540088.14176653 540088.14176653 540088.14176653 540088.14176653\n",
      " 540088.14176653 540088.14176653 540088.14176653 540088.14176653\n",
      " 540088.14176653 540088.14176653 540088.14176653 540088.14176653\n",
      " 540088.14176653 540088.14176653 540088.14176653 540088.14176653\n",
      " 540088.14176653 540088.14176653 540088.14176653 540088.14176653\n",
      " 540088.14176653 540088.14176653 540088.14176653 540088.14176653\n",
      " 540088.14176653 540088.14176653 540088.14176653 540088.14176653\n",
      " 540088.14176653 540088.14176653 540088.14176653 540088.14176653\n",
      " 540088.14176653 540088.14176653 540088.14176653 540088.14176653\n",
      " 540088.14176653 540088.14176653 540088.14176653 540088.14176653\n",
      " 540088.14176653 540088.14176653 540088.14176653 540088.14176653\n",
      " 540088.14176653 540088.14176653 540088.14176653 540088.14176653\n",
      " 540088.14176653 540088.14176653 540088.14176653 540088.14176653\n",
      " 540088.14176653 540088.14176653 540088.14176653 540088.14176653\n",
      " 540088.14176653 540088.14176653 540088.14176653 540088.14176653\n",
      " 540088.14176653 540088.14176653 540088.14176653 540088.14176653\n",
      " 540088.14176653 540088.14176653 540088.14176653 540088.14176653\n",
      " 540088.14176653 540088.14176653 540088.14176653 540088.14176653\n",
      " 540088.14176653 540088.14176653 540088.14176653 540088.14176653\n",
      " 540088.14176653 540088.14176653 540088.14176653 540088.14176653\n",
      " 540088.14176653 540088.14176653 540088.14176653 540088.14176653\n",
      " 540088.14176653 540088.14176653 540088.14176653 540088.14176653\n",
      " 540088.14176653 540088.14176653 540088.14176653 540088.14176653\n",
      " 540088.14176653 540088.14176653 540088.14176653 540088.14176653\n",
      " 540088.14176653 540088.14176653 540088.14176653 540088.14176653\n",
      " 540088.14176653 540088.14176653]\n"
     ]
    }
   ],
   "source": [
    "records = features = 0\n",
    "records, features =  X.shape\n",
    "print(f\"records={records}, features={features}.\")\n",
    "\n",
    "\n",
    "w0 = np.array([y.mean()]*features)\n",
    "#w0 = np.array([0]*features, dtype = float)\n",
    "eps = None\n",
    "step_size = 0.001\n",
    "cnt_steps = 100\n",
    "print(f\"w0={w0}\")\n",
    "\n"
   ]
  },
  {
   "cell_type": "code",
   "execution_count": 540,
   "id": "1c72b155",
   "metadata": {},
   "outputs": [],
   "source": [
    "class MyGradientRegressionModel:\n",
    "    \n",
    "    def __init__(self, _step_size = 0.1 , _w0 = [], _cnt_steps = 0, _epsylon = None):\n",
    "        self.step_size = _step_size\n",
    "        self.w0 = np.copy(_w0) \n",
    "        self.w = np.copy(_w0)\n",
    "        self.cnt_steps = _cnt_steps\n",
    "        self.epsylon = _epsylon  \n",
    "        self.Q = None\n",
    "    \n",
    "    def stochastic_gd(self, X, y):\n",
    "        records, features =  X.shape\n",
    "        temp = np.array([0]*records, dtype = float)\n",
    "        self.Q = np.array([0]*features, dtype = float)\n",
    "        w_next = np.copy(self.w0)\n",
    "        X_T = X.T     \n",
    "        for i in range (self.cnt_steps):\n",
    "            print(f\"Step {i}.\")\n",
    "            w_cur = np.copy(w_next)\n",
    "            np.dot(X, w_cur, temp)\n",
    "            temp = temp - y.iloc[i]\n",
    "            np.dot((2 * X_T), temp, self.Q)\n",
    "            w_next = w_cur - self.step_size * self.Q\n",
    "            print(f\"Step {i}. w_next:\\n {w_next}\\n\")\n",
    "            if self.epsylon:\n",
    "                if np.linalg.norm(w_next - w_cur) < self.epsylon:\n",
    "                    self.w = np.copy(w_next)\n",
    "                    return w_next\n",
    "        self.w = np.copy(w_next)\n",
    "        return w_next    \n",
    "\n",
    "    def predict(self, X):\n",
    "        records, features =  X.shape\n",
    "        y_pred = np.array([0]*records, dtype = float)\n",
    "        np.dot(X, self.w, y_pred)\n",
    "        print(f\"Prediction: {y_pred}\")\n",
    "        return y_pred\n",
    "\n",
    "    def print(self):\n",
    "        print(\"MyGradientRegressionModel details.\\n\")\n",
    "        print(f\"w0 = {self.w0}\")\n",
    "        print(f\"Step size = {self.step_size}\")\n",
    "        print(f\"Count of steps = {self.cnt_steps}\")\n",
    "        print(f\"Epsylon = {self.epsylon}\")\n",
    "            "
   ]
  },
  {
   "cell_type": "code",
   "execution_count": 541,
   "id": "cd254112",
   "metadata": {},
   "outputs": [
    {
     "name": "stdout",
     "output_type": "stream",
     "text": [
      "Step 0.\n",
      "Step 0. w_next:\n",
      " [540064.79552617 540072.77724757 523553.13018361 -55449.95206865\n",
      " 540078.06119381 525686.72341627 537954.51709709 526757.74454633\n",
      " 539463.69429768 539767.27639715 540912.59640373 524968.11767018\n",
      " 152010.98780552 540088.05314464 540088.0501622  540087.72340779\n",
      " 540087.81343805 540088.00021336 540088.04832353 540083.83344853\n",
      " 540086.25910427 540087.68519626 540087.54318033 540087.8542431\n",
      " 540088.07042089 540088.13122309 540088.13991706 540088.12961344\n",
      " 540088.03732656 540087.6190844  540085.84681655 540086.42020151\n",
      " 540087.01770221 540088.1046521  540088.07238242 540088.04039609\n",
      " 540088.07193143 540087.98368452 540088.10431152 540088.07207459\n",
      " 540088.04665918 540088.09278481 540087.92805961 540088.00171901\n",
      " 540087.85765623 540088.01552346 540088.01077149 540087.89955263\n",
      " 540088.06322836 540088.07310087 540088.08364942 540088.07547878\n",
      " 540088.11304632 540088.03205101 540088.01597825 540087.85382223\n",
      " 540088.11961309 540088.05045805 540087.9491378  540087.96076491\n",
      " 540087.99440915 540087.89251383 540088.08486861 540088.05143414\n",
      " 540087.98367567 540087.99352132 540088.04902516 540087.94364979\n",
      " 540087.99344884 540087.99234682 540088.00164469 540087.95872895\n",
      " 540087.93897677 540088.12745913 540088.07110041 540088.10564398\n",
      " 540088.09397135 540088.11181547 540088.11615327 540088.12773259\n",
      " 540088.09771809 540088.05158922 540088.09377616 540088.06389319\n",
      " 540088.06064755 540088.1174789  540088.10436043 540088.06210456\n",
      " 540088.08981203 540088.0546854  540088.10072762 540088.09506239\n",
      " 540088.08215354 540088.12942032 540088.03600115 540088.06713506\n",
      " 540088.07969619 540088.06700279 540088.08694085 540088.10980132\n",
      " 540088.07477009 540088.08704385]\n",
      "\n",
      "Step 1.\n",
      "Step 1. w_next:\n",
      " [540058.2774575  540068.54159309 519158.75567666 -96795.29637977\n",
      " 540075.20531382 521918.86969163 537327.981199   523081.29738626\n",
      " 539269.96789245 539678.7086441  541140.15486626 520899.15143287\n",
      " 101825.77593156 540088.03158472 540088.01866623 540087.61887984\n",
      " 540087.75264889 540087.95961749 540088.03553488 540082.60470756\n",
      " 540085.77860183 540087.54636283 540087.39754045 540087.79162812\n",
      " 540088.05393613 540088.12770114 540088.13963721 540088.12768358\n",
      " 540088.02211631 540087.48826102 540085.17738644 540085.89672367\n",
      " 540086.72479431 540088.09140992 540088.04982967 540088.00534587\n",
      " 540088.05353364 540087.92948977 540088.09172802 540088.04805958\n",
      " 540088.03323889 540088.07668927 540087.90580395 540087.97790439\n",
      " 540087.82854252 540087.9743876  540087.99616377 540087.84913132\n",
      " 540088.03872504 540088.04622462 540088.06450242 540088.05530536\n",
      " 540088.1039583  540087.99306734 540087.97278798 540087.79512653\n",
      " 540088.11230821 540088.01900996 540087.90427827 540087.93832748\n",
      " 540087.94339494 540087.84593967 540088.06617272 540088.0198761\n",
      " 540087.94562978 540087.94908022 540088.01926315 540087.92238151\n",
      " 540087.96499414 540087.94703979 540087.96104485 540087.93036699\n",
      " 540087.8999664  540088.11944751 540088.03383661 540088.08799717\n",
      " 540088.07413521 540088.09570763 540088.10469371 540088.11995205\n",
      " 540088.0747176  540088.01119489 540088.07121232 540088.02737341\n",
      " 540088.0265021  540088.10400922 540088.084131   540088.03268983\n",
      " 540088.06727844 540088.0220628  540088.08333414 540088.07089779\n",
      " 540088.06227408 540088.12535748 540088.002192   540088.04524103\n",
      " 540088.06203008 540088.04264136 540088.06734732 540088.09949442\n",
      " 540088.05349666 540088.06096854]\n",
      "\n",
      "Step 2.\n",
      "Step 2. w_next:\n",
      " [540053.30981773 540065.32924852 515877.5455581  -91215.20151696\n",
      " 540073.01552489 519125.08592026 536840.54132358 520294.66751918\n",
      " 539115.70976835 539611.55243807 541312.69622954 517847.87990834\n",
      "  82668.88878206 540088.01620659 540087.99278923 540087.54295317\n",
      " 540087.71535677 540087.92840674 540088.0297516  540081.66039222\n",
      " 540085.42691176 540087.4371593  540087.29292098 540087.74920791\n",
      " 540088.04239531 540088.12483647 540088.13950319 540088.12668475\n",
      " 540088.01465184 540087.39362727 540084.65951348 540085.48396887\n",
      " 540086.50824677 540088.08045088 540088.03166469 540087.97658695\n",
      " 540088.03992276 540087.88505965 540088.08146785 540088.02834905\n",
      " 540088.02720691 540088.06362812 540087.90076876 540087.9648808\n",
      " 540087.82195858 540087.94123504 540087.99204692 540087.81660524\n",
      " 540088.01920537 540088.0232651  540088.04892622 540088.03928612\n",
      " 540088.09670513 540087.96077426 540087.93728957 540087.75720738\n",
      " 540088.1064066  540087.99319663 540087.87275917 540087.92975392\n",
      " 540087.90142535 540087.81776157 540088.05095627 540087.9937394\n",
      " 540087.91831567 540087.91428225 540087.99518171 540087.91713529\n",
      " 540087.94736201 540087.91146484 540087.92954415 540087.91602988\n",
      " 540087.87614277 540088.11204747 540087.99984487 540088.07213699\n",
      " 540088.05695844 540088.08097578 540088.0945963  540088.11278698\n",
      " 540088.0537741  540087.97558279 540088.05110747 540087.99486306\n",
      " 540087.99683624 540088.09161048 540088.06559518 540088.00803536\n",
      " 540088.04757597 540087.99459736 540088.06819703 540088.04891693\n",
      " 540088.04612256 540088.1220797  540087.9751575  540088.02828688\n",
      " 540088.0484871  540088.02304816 540088.05110909 540088.09122813\n",
      " 540088.03646998 540088.03766171]\n",
      "\n",
      "Step 3.\n",
      "Step 3. w_next:\n",
      " [540048.56078887 540062.25948663 512748.71588772 -82532.8649457\n",
      " 540070.92006186 516463.85755592 536372.92678586 517633.77921245\n",
      " 538966.83591839 539547.42225201 541477.46269188 514939.66276221\n",
      "  67776.19510732 540088.00170151 540087.96777492 540087.47079267\n",
      " 540087.68040056 540087.89859028 540088.02459377 540080.7567742\n",
      " 540085.09304776 540087.33243435 540087.19348576 540087.70918925\n",
      " 540088.03145839 540088.12207359 540088.13939065 540088.12580736\n",
      " 540088.00787494 540087.30415638 540084.16450909 540085.08712854\n",
      " 540086.30228172 540088.06988481 540088.0141808  540087.94887011\n",
      " 540088.02702664 540087.84217335 540088.07156289 540088.00932775\n",
      " 540088.02209573 540088.05099969 540087.89779523 540087.95344101\n",
      " 540087.81772265 540087.90932936 540087.98920547 540087.78678357\n",
      " 540088.00039388 540088.00091725 540088.03383829 540088.02377415\n",
      " 540088.08973277 540087.92957393 540087.90294738 540087.72192015\n",
      " 540088.100733   540087.96828108 540087.84288783 540087.9224993\n",
      " 540087.86087673 540087.7919362  540088.0361977  540087.96837503\n",
      " 540087.89223715 540087.88091243 540087.97180156 540087.91390605\n",
      " 540087.93106568 540087.87738168 540087.89926967 540087.90347195\n",
      " 540087.85453454 540088.10476176 540087.96648379 540088.05660247\n",
      " 540088.04022844 540088.06652491 540088.0847411  540088.10574318\n",
      " 540088.03322391 540087.94081421 540088.03145008 540087.96309019\n",
      " 540087.96793296 540088.07942753 540088.04739483 540087.98416398\n",
      " 540088.02837612 540087.96797876 540088.05344527 540088.02733785\n",
      " 540088.03055367 540088.11893113 540087.94920087 540088.01209732\n",
      " 540088.03555185 540088.00423304 540088.03543678 540088.0832878\n",
      " 540088.0200714  540088.01485753]\n",
      "\n",
      "Step 4.\n",
      "Step 4. w_next:\n",
      " [540043.90796699 540059.25153015 509684.36516018 -74439.99117601\n",
      " 540068.86635962 513858.26243072 535914.15812527 515028.35019392\n",
      " 538820.23377904 539484.62691935 541638.79971268 512094.07900332\n",
      "  54665.88181958 540087.98757918 540087.94318117 540087.40013896\n",
      " 540087.64593049 540087.86942554 540088.01950943 540079.87140146\n",
      " 540084.76682079 540087.22984719 540087.09599916 540087.6699787\n",
      " 540088.02073541 540088.1193607  540088.13928792 540088.12497727\n",
      " 540088.00117591 540087.21698042 540083.68038608 540084.69747963\n",
      " 540086.10086377 540088.05953147 540087.99703197 540087.92169874\n",
      " 540088.01446568 540087.80006171 540088.06183033 540087.99065652\n",
      " 540088.01731717 540088.03856582 540087.89551059 540087.94272245\n",
      " 540087.81404664 540087.87804089 540087.98680311 540087.75823869\n",
      " 540087.98189857 540087.97887534 540088.01895904 540088.00844457\n",
      " 540088.08289644 540087.89893948 540087.86915726 540087.68761949\n",
      " 540088.09517652 540087.94381926 540087.81361177 540087.91546826\n",
      " 540087.82103765 540087.76700393 540088.02162487 540087.94335874\n",
      " 540087.86655035 540087.84821    540087.94867943 540087.91141445\n",
      " 540087.91524779 540087.84402156 540087.86950581 540087.89157743\n",
      " 540087.83393058 540088.09754376 540087.93350118 540088.0412551\n",
      " 540088.02373718 540088.05224878 540088.07502186 540088.09877345\n",
      " 540088.01290827 540087.90651607 540088.01204868 540087.93174259\n",
      " 540087.93944195 540088.06737808 540088.0293995  540087.9607012\n",
      " 540088.00945743 540087.94180179 540088.03890243 540088.00599223\n",
      " 540088.01527344 540088.11584971 540087.92378666 540087.99628112\n",
      " 540088.0228983  540087.98581882 540088.02006555 540088.07551217\n",
      " 540088.00396643 540087.99234076]\n",
      "\n",
      "Step 5.\n",
      "Step 5. w_next:\n",
      " [540039.33473758 540056.29454411 506672.86214076 -67164.29249887\n",
      " 540066.84727543 511298.17571794 535462.72891416 512468.79629769\n",
      " 538675.49753408 539422.93583341 541797.29979618 509300.15771325\n",
      "  42976.28268119 540087.97377037 540087.91894406 540087.33070303\n",
      " 540087.61177259 540087.8408042  540088.01445183 540079.00118643\n",
      " 540084.44685568 540087.12905717 540087.00006662 540087.63139237\n",
      " 540088.0101802  540088.11669008 540088.13919317 540088.12418457\n",
      " 540087.99450431 540087.13169817 540083.20539248 540084.31383478\n",
      " 540085.9031771  540088.04936135 540087.98016718 540087.8949936\n",
      " 540088.00218354 540087.75860906 540088.05224395 540087.97228395\n",
      " 540088.01279539 540088.02629524 540087.89374211 540087.93259256\n",
      " 540087.81073976 540087.847276   540087.98473317 540087.73074802\n",
      " 540087.96366735 540087.95709692 540088.00425409 540087.99326236\n",
      " 540088.07617505 540087.8687896  540087.83583529 540087.6540989\n",
      " 540088.08971956 540087.91974362 540087.78480637 540087.9085584\n",
      " 540087.78180318 540087.74277669 540088.0072061  540087.91863631\n",
      " 540087.84116487 540087.81606693 540087.92576752 540087.90949008\n",
      " 540087.89980295 540087.81127041 540087.84016185 540087.88020059\n",
      " 540087.81414852 540088.09038678 540087.90085726 540088.0260733\n",
      " 540088.00745355 540088.03812933 540088.0654219  540088.09187031\n",
      " 540087.99280164 540087.87263024 540087.99287284 540087.90077012\n",
      " 540087.91130988 540088.05544855 540088.01158793 540087.93758966\n",
      " 540087.9907848  540087.91600505 540088.0245416  540087.98485465\n",
      " 540088.00023848 540088.11282563 540087.89883288 540087.98077898\n",
      " 540088.01048011 540087.9677457  540088.00495292 540088.06787646\n",
      " 540087.98810854 540087.97007738]\n",
      "\n",
      "Step 6.\n",
      "Step 6. w_next:\n",
      " [540034.83374454 540053.38381579 503709.26546126 -60647.20686513\n",
      " 540064.85963591 508779.33021754 535017.96497305 509950.84511811\n",
      " 538532.45671632 539362.24618301 541953.22707738 506553.04301546\n",
      "  32541.73251387 540087.9602438  540087.8950328  540087.26236869\n",
      " 540087.57789512 540087.81267501 540088.00941649 540078.14473628\n",
      " 540084.13255018 540087.02989908 540086.90554258 540087.59336981\n",
      " 540087.9997769  540088.11405799 540088.1391055  540088.12342506\n",
      " 540087.98785593 540087.04812347 540082.73867373 540083.93566073\n",
      " 540085.70886852 540088.03935813 540087.96356113 540087.86871308\n",
      " 540087.99015307 540087.7177578  540088.04279113 540087.95418382\n",
      " 540088.00850054 540088.01417433 540087.89242516 540087.92298641\n",
      " 540087.80775093 540087.81698793 540087.98295477 540087.70420033\n",
      " 540087.94567736 540087.93556178 540087.98970957 540087.97821642\n",
      " 540088.06955822 540087.83908219 540087.80294205 540087.62127842\n",
      " 540088.08435306 540087.89602025 540087.75642685 540087.90175214\n",
      " 540087.74312144 540087.71917972 540087.99292949 540087.89418456\n",
      " 540087.81605398 540087.78443271 540087.90305095 540087.90806342\n",
      " 540087.88469199 540087.77907258 540087.81120141 540087.86928306\n",
      " 540087.7951004  540088.08328717 540087.86852849 540088.01104506\n",
      " 540087.99136094 540088.02415529 540088.05593194 540088.08502935\n",
      " 540087.9728894  540087.83912468 540087.97390533 540087.87014403\n",
      " 540087.8835081  540088.04363074 540087.99394734 540087.91479919\n",
      " 540087.97233845 540087.89055638 540088.01034829 540087.9639109\n",
      " 540087.98542694 540088.10985368 540087.87429736 540087.96556119\n",
      " 540087.99827519 540087.94998234 540087.99007585 540088.0603679\n",
      " 540087.97247593 540087.94804836]\n",
      "\n",
      "Step 7.\n",
      "Step 7. w_next:\n",
      " [540030.39923158 540050.51567181 500789.74124461 -54811.08054992\n",
      " 540062.9009572  506298.42164977 534579.33669545 507471.14868302\n",
      " 538390.97989101 539302.47740513 542106.78852805 503848.92686348\n",
      "  23229.30144138 540087.94697461 540087.87142283 540087.19504699\n",
      " 540087.54428217 540087.78499693 540088.00440318 540077.30095656\n",
      " 540083.82343394 540086.93224105 540086.81231812 540087.55586733\n",
      " 540087.9895138  540088.11146147 540088.13902419 540088.12269546\n",
      " 540087.98123128 540086.96610943 540082.2795471  540083.56254006\n",
      " 540085.51766167 540088.02950844 540087.94719356 540087.8428232\n",
      " 540087.97835245 540087.67746153 540088.03346184 540087.936335\n",
      " 540088.00440969 540088.00219261 540087.89151057 540087.91385129\n",
      " 540087.80504611 540087.78713918 540087.98143663 540087.67850503\n",
      " 540087.92791086 540087.91425403 540087.9753151  540087.96329915\n",
      " 540088.06303769 540087.8097832  540087.77044648 540087.58909739\n",
      " 540088.07906964 540087.87262174 540087.72844032 540087.89504108\n",
      " 540087.70495089 540087.69615554 540087.97878642 540087.86998576\n",
      " 540087.79119959 540087.75326725 540087.88051958 540087.90708027\n",
      " 540087.86988549 540087.74738335 540087.78259679 540087.85877967\n",
      " 540087.77671516 540088.07624204 540087.83649596 540087.99616069\n",
      " 540087.97544608 540088.01031747 540088.04654447 540088.07824703\n",
      " 540087.9531597  540087.80597352 540087.95513223 540087.839841\n",
      " 540087.85601363 540088.03191799 540087.97646739 540087.89230549\n",
      " 540087.95410242 540087.86542994 540087.99631085 540087.94314962\n",
      " 540087.97082137 540088.1069296  540087.85014606 540087.95060378\n",
      " 540087.98626603 540087.93250322 540087.97541558 540088.05297619\n",
      " 540087.95705144 540087.92623833]\n",
      "\n",
      "Step 8.\n",
      "Step 8. w_next:\n",
      " [540026.02596677 540047.68677577 497910.81372206 -49585.21726477\n",
      " 540060.96897996 503852.45505384 534146.36326484 505026.66328649\n",
      " 538250.94746098 539243.55625336 542258.17232382 501184.35701796\n",
      "  14920.58871224 540087.93394046 540087.84809177 540087.12865748\n",
      " 540087.51091941 540087.75773292 540087.99941167 540076.46885182\n",
      " 540083.51908007 540086.83596295 540086.72029505 540087.51884579\n",
      " 540087.97938044 540088.10889779 540088.13894858 540088.12199281\n",
      " 540087.97463064 540086.88552219 540081.82739049 540083.19409183\n",
      " 540085.32930699 540088.01980009 540087.93104598 540087.81729316\n",
      " 540087.96676197 540087.63767813 540088.0242469  540087.91871821\n",
      " 540088.00050237 540087.99034044 540087.89095472 540087.90514004\n",
      " 540087.8025952  540087.75769552 540087.98015098 540087.65358091\n",
      " 540087.91035161 540087.89315897 540087.96106104 540087.94850341\n",
      " 540088.0566059  540087.78086158 540087.73832008 540087.55750112\n",
      " 540088.07386263 540087.84952324 540087.70081687 540087.88841779\n",
      " 540087.66725359 540087.67365263 540087.9647688  540087.84602352\n",
      " 540087.76658505 540087.72253415 540087.85816389 540087.90649244\n",
      " 540087.85535702 540087.71616223 540087.75432279 540087.84865014\n",
      " 540087.75892907 540088.06924863 540087.80474175 540087.98141117\n",
      " 540087.95969661 540087.99660723 540088.0372525  540088.07151998\n",
      " 540087.93360151 540087.77315276 540087.93654055 540087.8098393\n",
      " 540087.82880511 540088.02030404 540087.95913832 540087.87008623\n",
      " 540087.93606183 540087.8406019  540087.9824185  540087.92256009\n",
      " 540087.95640574 540088.10404953 540087.82634792 540087.93588499\n",
      " 540087.97443664 540087.91528516 540087.96095492 540088.04569189\n",
      " 540087.94181935 540087.90463301]\n",
      "\n",
      "Step 9.\n"
     ]
    },
    {
     "name": "stdout",
     "output_type": "stream",
     "text": [
      "Step 9. w_next:\n",
      " [540021.7116868  540044.89566166 495070.87006111 -44894.77239187\n",
      " 540059.06275494 501440.03878477 533718.8234938  502616.08126291\n",
      " 538112.31270535 539185.45135036 542407.45905527 498557.67444926\n",
      "   7519.21386982 540087.92112705 540087.82503036 540087.06316132\n",
      " 540087.47781147 540087.73086067 540087.99444757 540075.6479967\n",
      " 540083.21929621 540086.74101388 540086.62942323 540087.48228368\n",
      " 540087.96937054 540088.10636511 540088.13887819 540088.12131544\n",
      " 540087.96806289 540086.80630988 540081.38194426 540082.83017678\n",
      " 540085.14366839 540088.0102285  540087.91511124 540087.79210608\n",
      " 540087.95536953 540087.59838647 540088.015143   540087.9013258\n",
      " 540087.99676379 540087.97861543 540087.89072295 540087.89681678\n",
      " 540087.80037919 540087.7286433  540087.97907589 540087.62936914\n",
      " 540087.89299483 540087.87227411 540087.94694712 540087.9338318\n",
      " 540088.05026017 540087.75230387 540087.70655578 540087.52646089\n",
      " 540088.06872778 540087.82671166 540087.67354732 540087.88188312\n",
      " 540087.6300143  540087.65163813 540087.95087812 540087.82229666\n",
      " 540087.74221084 540087.69221626 540087.83598609 540087.90626113\n",
      " 540087.84109183 540087.68538765 540087.72636905 540087.83886499\n",
      " 540087.74169662 540088.06230799 540087.77326963 540087.96679593\n",
      " 540087.9441122  540087.98302553 540088.02805556 540088.06484875\n",
      " 540087.91421373 540087.7406599  540087.9181293  540087.78013797\n",
      " 540087.80188023 540088.0087894  540087.94196136 540087.84813503\n",
      " 540087.91821537 540087.8160669  540087.96867001 540087.90214413\n",
      " 540087.94217525 540088.1012119  540087.80288999 540087.92139364\n",
      " 540087.96278138 540087.89831594 540087.94668738 540088.0385111\n",
      " 540087.92677515 540087.88323067]\n",
      "\n",
      "[540021.7116868  540044.89566166 495070.87006111 -44894.77239187\n",
      " 540059.06275494 501440.03878477 533718.8234938  502616.08126291\n",
      " 538112.31270535 539185.45135036 542407.45905527 498557.67444926\n",
      "   7519.21386982 540087.92112705 540087.82503036 540087.06316132\n",
      " 540087.47781147 540087.73086067 540087.99444757 540075.6479967\n",
      " 540083.21929621 540086.74101388 540086.62942323 540087.48228368\n",
      " 540087.96937054 540088.10636511 540088.13887819 540088.12131544\n",
      " 540087.96806289 540086.80630988 540081.38194426 540082.83017678\n",
      " 540085.14366839 540088.0102285  540087.91511124 540087.79210608\n",
      " 540087.95536953 540087.59838647 540088.015143   540087.9013258\n",
      " 540087.99676379 540087.97861543 540087.89072295 540087.89681678\n",
      " 540087.80037919 540087.7286433  540087.97907589 540087.62936914\n",
      " 540087.89299483 540087.87227411 540087.94694712 540087.9338318\n",
      " 540088.05026017 540087.75230387 540087.70655578 540087.52646089\n",
      " 540088.06872778 540087.82671166 540087.67354732 540087.88188312\n",
      " 540087.6300143  540087.65163813 540087.95087812 540087.82229666\n",
      " 540087.74221084 540087.69221626 540087.83598609 540087.90626113\n",
      " 540087.84109183 540087.68538765 540087.72636905 540087.83886499\n",
      " 540087.74169662 540088.06230799 540087.77326963 540087.96679593\n",
      " 540087.9441122  540087.98302553 540088.02805556 540088.06484875\n",
      " 540087.91421373 540087.7406599  540087.9181293  540087.78013797\n",
      " 540087.80188023 540088.0087894  540087.94196136 540087.84813503\n",
      " 540087.91821537 540087.8160669  540087.96867001 540087.90214413\n",
      " 540087.94217525 540088.1012119  540087.80288999 540087.92139364\n",
      " 540087.96278138 540087.89831594 540087.94668738 540088.0385111\n",
      " 540087.92677515 540087.88323067]\n",
      "Prediction: [4.60033299e+09 3.74827970e+09 5.41703432e+09 ... 4.82338165e+09\n",
      " 2.16384582e+09 4.16632338e+09]\n"
     ]
    },
    {
     "data": {
      "text/plain": [
       "array([4.60033299e+09, 3.74827970e+09, 5.41703432e+09, ...,\n",
       "       4.82338165e+09, 2.16384582e+09, 4.16632338e+09])"
      ]
     },
     "execution_count": 541,
     "metadata": {},
     "output_type": "execute_result"
    }
   ],
   "source": [
    "#step_size = 0.000000000001\n",
    "step_size = 0.00000000000001\n",
    "\n",
    "cnt_steps = 10\n",
    "\n",
    "model = MyGradientRegressionModel(step_size, w0, cnt_steps)\n",
    "w = model.stochastic_gd(X_train, y_train)\n",
    "print (w)\n",
    "y_pred = model.predict(X_test)"
   ]
  },
  {
   "cell_type": "code",
   "execution_count": 542,
   "id": "2f1b38eb",
   "metadata": {},
   "outputs": [
    {
     "name": "stdout",
     "output_type": "stream",
     "text": [
      "[652625.55075631 278470.80169055 730195.32312202 ... 881499.71820021\n",
      " 166040.77208275 355571.89153228] \n",
      "________________________________\n",
      "\n",
      "87305.35353001527\n"
     ]
    }
   ],
   "source": [
    "from sklearn.metrics import mean_absolute_error as mae\n",
    "print(y_pred, \"\\n________________________________\\n\")\n",
    "print(mae(y_test, y_pred))"
   ]
  },
  {
   "cell_type": "code",
   "execution_count": null,
   "id": "63524c68",
   "metadata": {},
   "outputs": [],
   "source": []
  }
 ],
 "metadata": {
  "celltoolbar": "Слайд-шоу",
  "kernelspec": {
   "display_name": "Python 3",
   "language": "python",
   "name": "python3"
  },
  "language_info": {
   "codemirror_mode": {
    "name": "ipython",
    "version": 3
   },
   "file_extension": ".py",
   "mimetype": "text/x-python",
   "name": "python",
   "nbconvert_exporter": "python",
   "pygments_lexer": "ipython3",
   "version": "3.8.8"
  }
 },
 "nbformat": 4,
 "nbformat_minor": 5
}
